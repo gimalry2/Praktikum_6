{
 "cells": [
  {
   "cell_type": "code",
   "execution_count": null,
   "metadata": {},
   "outputs": [],
   "source": [
    "import numpy as np # Mengimpor library numpy\n",
    "import imageio  # Mengimpor library imageio\n",
    "import matplotlib.pyplot as plt # Mengimpor library matplotlib.pyplot"
   ]
  },
  {
   "cell_type": "code",
   "execution_count": null,
   "metadata": {},
   "outputs": [],
   "source": [
    "img = imageio.imread(\"gambar4.jpg\") # Membaca gambar dari library imageio"
   ]
  },
  {
   "cell_type": "code",
   "execution_count": null,
   "metadata": {},
   "outputs": [],
   "source": [
    "img_height = img.shape[0] #  Mengambil nilai tinggi gambar dari .shape pada variabel img\n",
    "img_width = img.shape[1] # Mengambil nilai lebar gambar dari .shape pada variabel img\n",
    "img_channel = img.shape[2] # Mengambil jumlah channel warna gambar dari .shape pada variabel img"
   ]
  },
  {
   "cell_type": "code",
   "execution_count": null,
   "metadata": {},
   "outputs": [],
   "source": [
    "img_grayscale = np.zeros(img.shape, dtype=np.uint8) # Membuat array kosong dengan ukuran yang sama dengan gambar asli \n",
    "\n",
    "# Melakukan loop pada setiap piksel pada gambar\n",
    "for y in range(0, img_height):\n",
    "    for x in range(0, img_width):\n",
    "\n",
    "        # Mengambil nilai warna pada setiap kanal RGB\n",
    "        red = img[y][x][0]\n",
    "        green = img[y][x][1]\n",
    "        blue = img[y][x][2]\n",
    "        gray = (int(red) + int(green) + int(blue)) / 3 # Menghitung nilai grayscale dari setiap piksel\n",
    "        img_grayscale[y][x] = (gray, gray, gray) # Menyimpan nilai grayscale pada array img_grayscale\n",
    "        \n",
    "plt.imshow(img_grayscale) # Menampilkan gambar dalam format grayscale\n",
    "plt.title(\"Grayscale\") # Memberikan judul pada gambar yang ditampilkan\n",
    "plt.show() # Menampilkan gambar yang sudah dikonversi ke dalam format grayscale"
   ]
  },
  {
   "cell_type": "code",
   "execution_count": null,
   "metadata": {},
   "outputs": [],
   "source": [
    "hg = np.zeros((256)) # Membuat array satu dimensi dengan panjang 256"
   ]
  },
  {
   "cell_type": "code",
   "execution_count": null,
   "metadata": {},
   "outputs": [],
   "source": [
    "# Menginisialisasi setiap elemen array `hg` dengan nilai nol menggunakan loop for\n",
    "for x in range(0, 256):\n",
    "    hg[x] = 0"
   ]
  },
  {
   "cell_type": "code",
   "execution_count": null,
   "metadata": {},
   "outputs": [],
   "source": [
    "for y in range(0, img_height): # Menghitung frekuensi dan Loop pertama digunakan untuk mengakses setiap baris pada gambar\n",
    "    for x in range(0, img_width): # Loop kedua digunakan untuk mengakses setiap piksel pada setiap baris gambar\n",
    "        gray = img_grayscale[y][x][0] # Mengambil nilai intensitas piksel dari gambar grayscale\n",
    "        hg[gray] += 1 # Nilai gray"
   ]
  },
  {
   "cell_type": "code",
   "execution_count": null,
   "metadata": {},
   "outputs": [],
   "source": [
    "# plt.figure(figsize=(20, 6))\n",
    "# plt.plot(hg, color=\"black\", linewidth=2.0)\n",
    "# plt.show()\n",
    "\n",
    "bins = np.linspace(0, 256, 100) # Membuat array bins yang berisi 100 bilangan dalam rentang 0-256\n",
    "plt.hist(hg, bins, color=\"black\", alpha=0.5) # Menggambar histogram dengan menggunakan fungsi hist dari Matplotlib\n",
    "plt.title(\"Histogram\") # Menambahkan judul\n",
    "plt.show() # Menampilkan gambar"
   ]
  },
  {
   "cell_type": "code",
   "execution_count": null,
   "metadata": {},
   "outputs": [],
   "source": [
    "hgr = np.zeros((256)) # Membuat array hgr yang berisi 256\n",
    "hgg = np.zeros((256)) # Membuat array hgg yang berisi 256\n",
    "hgb = np.zeros((256)) # Membuat array hgb yang berisi 256\n",
    "hgrgb = np.zeros((768)) # Membuat array hgrgb yang berisi 768"
   ]
  },
  {
   "cell_type": "code",
   "execution_count": null,
   "metadata": {},
   "outputs": [],
   "source": [
    "for x in range(0, 256): # Melakukan iterasi untuk setiap nilai x dalam range 0 hingga 255\n",
    "    hgr[x] = 0 # Menetapkan nilai 0 pada indeks x dari array hgr\n",
    "    hgg[x] = 0 # Menetapkan nilai 0 pada indeks x dari array hgg\n",
    "    hgb[x] = 0 # Menetapkan nilai 0 pada indeks x dari array hgb\n",
    "    \n",
    "for x in range(0, 768): # Melakukan iterasi untuk setiap nilai x dalam range 0 hingga 767\n",
    "    hgrgb[x] = 0 # Menetapkan nilai 0 pada indeks x dari array hgrgb"
   ]
  },
  {
   "cell_type": "code",
   "execution_count": null,
   "metadata": {},
   "outputs": [],
   "source": [
    "# Inisialisasi array hgr, hgg, hgb, dan hgrgb dengan nol menggunakan numpy.zeros()\n",
    "for x in range(0, 256):\n",
    "    hgr[x] = 0\n",
    "    hgg[x] = 0\n",
    "    hgb[x] = 0\n",
    "# Inisialisasi array Red Green Blue dengan nilai nol\n",
    "for x in range(0, 768):\n",
    "    hgrgb[x] = 0\n",
    "\n",
    "# th = int(256/64)\n",
    "# Membuat variabel temp untuk menampung data sementara\n",
    "temp = [0]\n",
    "for y in range(0, img.shape[0]):\n",
    "    # Melakukan iterasi untuk setiap piksel pada gambar\n",
    "    for x in range(0, img.shape[1]):\n",
    "        # Mengambil nilai setiap piksel\n",
    "        red = int(img[y][x][0])\n",
    "        green = int(img[y][x][1])\n",
    "        blue = int(img[y][x][2])\n",
    "        # Menambahkan nilai 256 untuk green dan 512 untuk blue\n",
    "        green = green + 256\n",
    "        blue = blue + 512\n",
    "# temp.append(green)\n",
    "        # Menambahkan 1 ke array Red Green Blue untuk setiap nilai red, green, dan blue pada setiap piksel gambar\n",
    "        hgrgb[red] += 1\n",
    "        hgrgb[green] += 1\n",
    "        hgrgb[blue] += 1\n",
    "\n",
    "binsrgb = np.linspace(0, 768, 100) # Membuat bins untuk histogram Red Green Blue\n",
    "# Membuat histogram Red Green Blue dengan menggunakan method hist dari library pyplot\n",
    "plt.hist(hgrgb, binsrgb, color=\"black\", alpha=0.5)\n",
    "# plt.plot(hgrgb)\n",
    "plt.title(\"Histogram Red Green Blue\") # Memberikan judul pada histogram\n",
    "plt.show() # Menampilkan histogram"
   ]
  },
  {
   "cell_type": "code",
   "execution_count": null,
   "metadata": {},
   "outputs": [],
   "source": [
    "for y in range(0, img_height): # Looping dari 0 sampai dengan tinggi gambar\n",
    "    for x in range(0, img_width): # Looping dari 0 sampai dengan lebar gambar\n",
    "        red = img[y][x][0] # Mengambil nilai komponen merah\n",
    "        green = img[y][x][1] # Mengambil nilai komponen hijau\n",
    "        blue = img[y][x][2] # Mengambil nilai komponen biru\n",
    "        hgr[red] += 1 # Menambahkan nilai 1 ke histogram merah\n",
    "        hgg[green] += 1 # Menambahkan nilai 1 ke histogram hijau\n",
    "        hgb[blue] += 1 # Menambahkan nilai 1 ke histogram biru\n",
    "\n",
    "bins = np.linspace(0, 256, 100) # Membuat array 100 nilai yang linear dari 0 sampai 256\n",
    "plt.hist(hgr, bins, color=\"red\", alpha=0.5) #Membuat histogram merah dengan menggunakan nilai dari hgr dan bins. alpha\n",
    "plt.title(\"Histogram Red\") # Memberikan judul pada histogram merah\n",
    "plt.show() # Menampilkan histogram merah\n",
    "\n",
    "plt.hist(hgg, bins, color=\"green\", alpha=0.5) # Membuat histogram hijau dengan menggunakan nilai dari hgg dan bins. alpha\n",
    "plt.title(\"Histogram Green\") #  Memberikan judul pada histogram hijau\n",
    "plt.show() # Menampilkan histogram hijau\n",
    "\n",
    "plt.hist(hgb, bins, color=\"blue\", alpha=0.5) # Membuat histogram biru dengan menggunakan nilai dari hgb dan bins. alpha\n",
    "plt.title(\"Histogram Blue\") # Memberikan judul pada histogram biru\n",
    "plt.show() # Menampilkan histogram biru"
   ]
  },
  {
   "cell_type": "code",
   "execution_count": null,
   "metadata": {},
   "outputs": [],
   "source": [
    "# Membuat array numpy dengan 256 eleme\n",
    "hgk = np.zeros((256))\n",
    "c = np.zeros((256)) \n",
    "\n",
    "# Menginisialisasi setiap elemen dalam array hgk dan c dengan 0\n",
    "for x in range(0, 256):\n",
    "    hgk[x] = 0 # \n",
    "    c[x] = 0\n",
    "\n",
    "# Melakukan iterasi pada setiap piksel dalam citra grayscale...\n",
    "for y in range(0, img_height):\n",
    "    for x in range(0, img_width):\n",
    "        gray = img_grayscale[y][x][0]\n",
    "        hgk[gray] += 1\n",
    "                \n",
    "c[0] = hgk[0] # Menginisialisasi elemen pertama dalam array c\n",
    "# Menghitung histogram kumulatif dengan menjumlahkan setiap elemen dalam array hgk dengan elemen sebelumnya dalam array c\n",
    "for x in range(1, 256):\n",
    "     c[x] = c[x-1] + hgk[x]\n",
    "\n",
    "hmaxk = c[255] # Menyimpan nilai elemen terakhir dalam array c\n",
    "\n",
    "#Normalisasi nilai dalam array c agar berada dalam rentang 0-190, dan menyimpannya kembali ke dalam array c\n",
    "for x in range(0, 256):\n",
    "    c[x] = 190 * c[x] / hmaxk\n",
    "\n",
    "plt.hist(c, bins, color=\"black\", alpha=0.5) # Membuat histogram dari data kumulatif\n",
    "plt.title(\"Histogram Grayscale Kumulatif\") # Memberikan judul pada histogram\n",
    "plt.show() #Menampilkan histogram"
   ]
  },
  {
   "cell_type": "code",
   "execution_count": null,
   "metadata": {},
   "outputs": [],
   "source": [
    "# Membuat array numpy yang berisi 256 elemen nol\n",
    "hgh = np.zeros((256))\n",
    "h = np.zeros((256))\n",
    "c = np.zeros((256))\n",
    "\n",
    "#Inisialisasi array hgh, h, dan c dengan nilai 0\n",
    "for x in range(0, 256):\n",
    "    hgh[x] = 0\n",
    "    h[x] = 0\n",
    "    c[x] = 0\n",
    "\n",
    "# Melakukan perulangan pada setiap piksel pada gambar grayscale dan mnghitung junlah kemunculan\n",
    "for y in range(0, img_height):\n",
    "    for x in range(0, img_width):\n",
    "        gray = img_grayscale[y][x][0]\n",
    "        hgh[gray] += 1\n",
    "                \n",
    "h[0] = hgh[0] # Menyimpan nilai pertama dari array hgh pada elemen pertama dari array h\n",
    "# Melakukan proses kumulatif pada array hgh, dan menyimpan hasilnya pada array h\n",
    "for x in range(1, 256):\n",
    "     h[x] = h[x-1] + hgh[x]\n",
    "\n",
    "# Menghitung nilai rata-rata dari setiap elemen pada array h\n",
    "for x in range(0, 256):\n",
    "     h[x] = h[x] / img_height / img_width\n",
    "\n",
    "# Mengosongkan kembali array hgh\n",
    "for x in range(0, 256):\n",
    "    hgh[x] = 0\n",
    "\n",
    "# Melakukan proses mapping dari setiap nilai grayscale ke nilai baru dengan mengalikan nilai rata-rata h dengan 255 dan menyimpannya\n",
    "for y in range(0, img_height):\n",
    "    for x in range(0, img_width):\n",
    "        gray = img_grayscale[y][x][0]\n",
    "        gray = h[gray] * 255\n",
    "        hgh[int(gray)] += 1\n",
    "\n",
    "c[0] = hgh[0] # Menyimpan nilai pertama dari array hgh pada elemen pertama dari array c\n",
    "# Melakukan proses kumulatif pada array hgh, dan menyimpan\n",
    "for x in range(1, 256):\n",
    "     c[x] = c[x-1] + hgh[x]\n",
    "\n",
    "hmaxk = c[255] # Menyimpan nilai elemen ke-255 dari array c pada variabel hmaxk\n",
    "\n",
    "# Melakukan proses normalisasi pada array c\n",
    "for x in range(0, 256):\n",
    "    c[x] = 190 * c[x] / hmaxk\n",
    "\n",
    "plt.hist(c, bins, color=\"black\", alpha=0.5) # Menampilkan histogram dari array c dengan menggunakan bins sebagai jumlah bin, warna hitam, dan transparansi 0.5\n",
    "plt.title(\"Histogram Grayscale Hequalisasi\") # Menambahkan judul pada histogram\n",
    "plt.show() # Menampilkan hostogram"
   ]
  }
 ],
 "metadata": {
  "kernelspec": {
   "display_name": "Python 3",
   "language": "python",
   "name": "python3"
  },
  "language_info": {
   "name": "python",
   "version": "3.11.2 (tags/v3.11.2:878ead1, Feb  7 2023, 16:38:35) [MSC v.1934 64 bit (AMD64)]"
  },
  "orig_nbformat": 4,
  "vscode": {
   "interpreter": {
    "hash": "1159ea3afe807989b1235a557f31b1b73e14d317c9f379f1e65529e286b330f4"
   }
  }
 },
 "nbformat": 4,
 "nbformat_minor": 2
}
