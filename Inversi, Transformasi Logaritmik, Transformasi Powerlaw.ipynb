{
 "cells": [
  {
   "cell_type": "code",
   "execution_count": null,
   "metadata": {},
   "outputs": [],
   "source": [
    "import numpy as np # Mengimpor library numpy\n",
    "import imageio  # Mengimpor library imageio\n",
    "import matplotlib.pyplot as plt # Mengimpor library matplotlib.pyplot"
   ]
  },
  {
   "cell_type": "code",
   "execution_count": null,
   "metadata": {},
   "outputs": [],
   "source": [
    "img = imageio.imread(\"gambar4.jpg\") # Membaca gambar dari library imageio"
   ]
  },
  {
   "cell_type": "code",
   "execution_count": null,
   "metadata": {},
   "outputs": [],
   "source": [
    "img_height = img.shape[0] #  Mengambil nilai tinggi gambar dari .shape pada variabel img\n",
    "img_width = img.shape[1] # Mengambil nilai lebar gambar dari .shape pada variabel img\n",
    "img_channel = img.shape[2] # Mengambil jumlah channel warna gambar dari .shape pada variabel img"
   ]
  },
  {
   "cell_type": "code",
   "execution_count": null,
   "metadata": {},
   "outputs": [],
   "source": [
    "img_inversi = np.zeros(img.shape, dtype=np.uint8) # membuat array numpy dengan ukuran yang sama dengan gambar asli "
   ]
  },
  {
   "cell_type": "code",
   "execution_count": null,
   "metadata": {},
   "outputs": [],
   "source": [
    "def inversi_grayscale(nilai): # fungsi untuk melakukan inversi grayscale dengan parameter nilai\n",
    "    # loop untuk mengakses setiap piksel dalam gambar\n",
    "    for y in range(0, img_height): \n",
    "        for x in range(0, img_width):\n",
    "            # mengambil nilai red, green, dan blue dari setiap piksel\n",
    "            red = img[y][x][0]\n",
    "            green = img[y][x][1]\n",
    "            blue = img[y][x][2]\n",
    "            # menghitung nilai grayscale dari piksel\n",
    "            gray = (int(red) + int(green) + int(blue)) / 3\n",
    "            gray = nilai - gray\n",
    "            img_inversi[y][x] = (gray, gray, gray) # menyimpan nilai piksel yang sudah diinversi grayscale"
   ]
  },
  {
   "cell_type": "code",
   "execution_count": null,
   "metadata": {},
   "outputs": [],
   "source": [
    "def inversi_rgb(nilai): # fungsi untuk melakukan inversi grayscale dengan parameter nilai\n",
    "    # Looping setiap pixel pada gambar\n",
    "    for y in range(0, img_height):\n",
    "        for x in range(0, img_width):\n",
    "            # Mengambil nilai RGB pada setiap pixel\n",
    "            # Melakukan operasi inversi terhadap nilai merah\n",
    "            red = img[y][x][0]\n",
    "            red = nilai - red\n",
    "            # Melakukan operasi inversi terhadap nilai hijau\n",
    "            green = img[y][x][1]\n",
    "            green = nilai - green\n",
    "            # Melakukan operasi inversi terhadap nilai biru\n",
    "            blue = img[y][x][2]\n",
    "            blue = nilai - blue\n",
    "            img_inversi[y][x] = (red, green, blue) # Menyimpan nilai RGB yang sudah diinversi pada gambar hasil"
   ]
  },
  {
   "cell_type": "code",
   "execution_count": null,
   "metadata": {},
   "outputs": [],
   "source": [
    "inversi_grayscale(255)  # melakukan inversi citra grayscale dengan nilai 255\n",
    "plt.imshow(img_inversi) # menampilkan citra hasil inversi grayscale\n",
    "plt.title(\"Inversi Grayscale\") # memberikan judul pada plot citra hasil inversi grayscale\n",
    "plt.show() # menampilkan plot gambar\n",
    "\n",
    "inversi_rgb(255) # melakukan inversi citra RGB dengan nilai 255\n",
    "plt.imshow(img_inversi) # menampilkan citra hasil inversi RGB\n",
    "plt.title(\"Inversi RGB\") # memberikan judul pada plot citra hasil inversi RGB\n",
    "plt.show()7# menampilkan plot gambar"
   ]
  },
  {
   "cell_type": "code",
   "execution_count": null,
   "metadata": {},
   "outputs": [],
   "source": [
    "img_log = np.zeros(img.shape, dtype=np.uint8) # Inisialisasi array numpy img_log dengan ukuran yang sama dengan img"
   ]
  },
  {
   "cell_type": "code",
   "execution_count": null,
   "metadata": {},
   "outputs": [],
   "source": [
    "def log(c): # Mendefinisikan sebuah fungsi log\n",
    "    # Melakukan iterasi pada setiap piksel gambar\n",
    "    for y in range(0, img_height):\n",
    "        for x in range(0, img_width):\n",
    "            # Mengambil nilai warna RGB\n",
    "            red = img[y][x][0]\n",
    "            green = img[y][x][1]\n",
    "            blue = img[y][x][2]\n",
    "            gray = (int(red) + int(green) + int(blue)) / 3 # Menghitung rata-rata dari warna RGB untuk mendapatkan grayscale\n",
    "            gray = int(c * np.log(gray + 1)) #Mengalikan nilai kecerahan dengan konstanta c\n",
    "            # Mencetak nilai kecerahan\n",
    "            if gray > 255:\n",
    "                gray = 255\n",
    "            if gray < 0:\n",
    "                gray = 0\n",
    "            img_log[y][x] = (gray, gray, gray) # Menyimpan nilai kecerahan"
   ]
  },
  {
   "cell_type": "code",
   "execution_count": null,
   "metadata": {},
   "outputs": [],
   "source": [
    "log(30) # Menjalankan fungsi log dengan parameter c = 30\n",
    "plt.imshow(img_log) # menampilkan gambar hasil transformasi log\n",
    "plt.title(\"Log\") #memberikan judul\n",
    "plt.show() # Menampilkan plot"
   ]
  },
  {
   "cell_type": "code",
   "execution_count": null,
   "metadata": {},
   "outputs": [],
   "source": [
    "img_inlog = np.zeros(img.shape, dtype=np.uint8) # Membuat array"
   ]
  },
  {
   "cell_type": "code",
   "execution_count": null,
   "metadata": {},
   "outputs": [],
   "source": [
    "def inlog(c): # Mendefinisikan sebuah fungsi inlog c\n",
    "    for y in range(0, img_height): # Melakukan perulangan dari 0 hingga nilai img_height\n",
    "        for x in range(0, img_width): # Melakukan perulangan dari 0 hingga nilai img_width\n",
    "            red = img[y][x][0] # Menyimpan nilai komponen merah\n",
    "            green = img[y][x][1] # Menyimpan nilai komponen hijau\n",
    "            blue = img[y][x][2] # Menyimpan nilai komponen biru\n",
    "            gray = (int(red) + int(green) + int(blue)) / 3 # Mengitung rata-rata RGB dan menyimpan nilai gray\n",
    "            gray = int(c * np.log(255 - gray + 1)) # Menghitung logaritma natural dari selisih 255 dan nilai gray\n",
    "            # Mencetak nilai kecerahan\n",
    "            if gray > 255:\n",
    "                gray = 255\n",
    "            if gray < 0:\n",
    "                gray = 0\n",
    "            img_inlog[y][x] = (gray, gray, gray) # Menyimpan nilai gray"
   ]
  },
  {
   "cell_type": "code",
   "execution_count": null,
   "metadata": {},
   "outputs": [],
   "source": [
    "inlog(30) # memanggil fungsi inlog dengan nilai c = 30\n",
    "plt.imshow(img_inlog) # menampilkan citra hasil inversi\n",
    "plt.title(\"Inversi & Log\") # Memberi judul\n",
    "plt.show() # menampilkan gambar"
   ]
  },
  {
   "cell_type": "code",
   "execution_count": null,
   "metadata": {},
   "outputs": [],
   "source": [
    "img_nthpower = np.zeros(img.shape, dtype=np.uint8) # inisialisasi array untuk menyimpan hasil pengolahan citra dengan metode eksponensial pangkat-n"
   ]
  },
  {
   "cell_type": "code",
   "execution_count": null,
   "metadata": {},
   "outputs": [],
   "source": [
    "def nthpower(c, y): # Mendefinisikan sebuah fungsi nthpower\n",
    "    thc = c / 100 # Menghitung nilai thc\n",
    "    thy = y / 100 # Menghitung nilai thy\n",
    "    for y in range(0, img_height): # Melakukan iterasi untuk setiap nilai y dari 0 sampai tinggi gambar\n",
    "        for x in range(0, img_width): # Melakukan iterasi untuk setiap nilai x dari 0 sampai lebar gambar\n",
    "            # Mengambil warna RGB\n",
    "            red = img[y][x][0]\n",
    "            green = img[y][x][1]\n",
    "            blue = img[y][x][2]\n",
    "            gray = (int(red) + int(green) + int(blue)) / 3 # Menghitung nilai rata-rata warna grayscale\n",
    "            gray = int(thc * pow(gray, thy)) # Menghitung nilai gray dengan mengalikan thc dengan gray pangkat thy\n",
    "            # Menghitung nilai kecerahan\n",
    "            if gray > 255:\n",
    "                gray = 255\n",
    "            if gray < 0:\n",
    "                gray = 0\n",
    "            img_nthpower[y][x] = (gray, gray, gray) # Menyimpan nilai gray"
   ]
  },
  {
   "cell_type": "code",
   "execution_count": null,
   "metadata": {},
   "outputs": [],
   "source": [
    "nthpower(50, 100) # Memanggil fungsi nthpower\n",
    "plt.imshow(img_nthpower) # Menampilkan gambar nthpower\n",
    "plt.title(\"Nth Power\") # Memberikan judul\n",
    "plt.show() # Menampilkan gambar"
   ]
  },
  {
   "cell_type": "code",
   "execution_count": null,
   "metadata": {},
   "outputs": [],
   "source": [
    "img_nthrootpower = np.zeros(img.shape, dtype=np.uint8) # Inisialisasi array numpy dengan ukuran yang sama seperti gambar img"
   ]
  },
  {
   "cell_type": "code",
   "execution_count": null,
   "metadata": {},
   "outputs": [],
   "source": [
    "def nthrootpower(c, y): # deklarasi fungsi nthrootpower\n",
    "    thc = c / 100 # menyimpan nilai c yang telah dibagi 100\n",
    "    thy = y / 100 # menyimpan nilai y yang telah dibagi 100\n",
    "    for y in range(0, img_height): # Melakukan iterasi\n",
    "        for x in range(0, img_width): # Melakukajn iterasi\n",
    "            # Mengambil nilai warna RGB\n",
    "            red = img[y][x][0]\n",
    "            green = img[y][x][1]\n",
    "            blue = img[y][x][2]\n",
    "            gray = (int(red) + int(green) + int(blue)) / 3 # menyimpan nilai rata-rata dari nilai RGB\n",
    "            gray = int(thc * pow(gray, 1./thy)) # menghitung nilai pixel baru dengan menggunakan fungsi pangkat\n",
    "            # Mencetak nilai\n",
    "            if gray > 255:\n",
    "                gray = 255\n",
    "            if gray < 0:\n",
    "                gray = 0\n",
    "            img_nthpower[y][x] = (gray, gray, gray) # memperbarui nilai piksel"
   ]
  },
  {
   "cell_type": "code",
   "execution_count": null,
   "metadata": {},
   "outputs": [],
   "source": [
    "nthrootpower(50, 100) # memanggil fungsi nthrootpower\n",
    "plt.imshow(img_nthrootpower) # Menampilkan citra \n",
    "plt.title(\"Nth Root Power\") # Memberikan judul\n",
    "\n",
    "plt.show() # Menampilkan plot"
   ]
  }
 ],
 "metadata": {
  "kernelspec": {
   "display_name": "Python 3",
   "language": "python",
   "name": "python3"
  },
  "language_info": {
   "name": "python",
   "version": "3.11.2 (tags/v3.11.2:878ead1, Feb  7 2023, 16:38:35) [MSC v.1934 64 bit (AMD64)]"
  },
  "orig_nbformat": 4,
  "vscode": {
   "interpreter": {
    "hash": "1159ea3afe807989b1235a557f31b1b73e14d317c9f379f1e65529e286b330f4"
   }
  }
 },
 "nbformat": 4,
 "nbformat_minor": 2
}
